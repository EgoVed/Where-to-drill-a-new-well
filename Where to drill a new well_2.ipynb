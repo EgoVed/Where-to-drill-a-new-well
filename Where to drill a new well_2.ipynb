{
 "cells": [
  {
   "cell_type": "markdown",
   "metadata": {},
   "source": [
    "# Описание проекта"
   ]
  },
  {
   "cell_type": "markdown",
   "metadata": {},
   "source": [
    "Допустим, вы работаете в добывающей компании «ГлавРосГосНефть». Нужно решить, где бурить новую скважину.\n",
    "\n",
    "Вам предоставлены пробы нефти в трёх регионах: в каждом 10 000 месторождений, где измерили качество нефти и объём её запасов. Постройте модель машинного обучения, которая поможет определить регион, где добыча принесёт наибольшую прибыль. Проанализируйте возможную прибыль и риски техникой *Bootstrap.*\n",
    "\n",
    "Шаги для выбора локации:\n",
    "\n",
    "- В избранном регионе ищут месторождения, для каждого определяют значения признаков;\n",
    "- Строят модель и оценивают объём запасов;\n",
    "- Выбирают месторождения с самым высокими оценками значений. Количество месторождений зависит от бюджета компании и стоимости разработки одной скважины;\n",
    "- Прибыль равна суммарной прибыли отобранных месторождений."
   ]
  },
  {
   "cell_type": "markdown",
   "metadata": {},
   "source": [
    "Данные геологоразведки трёх регионов находятся в файлах: geo_data_0.csv, geo_data_1.csv и geo_data_2.csv.\n",
    "- id — уникальный идентификатор месторождения;\n",
    "- f0, f1, f2 — три признака точек (неважно, что они означают, но сами признаки значимы);\n",
    "- product — объём запасов в месторождении (тыс. баррелей)."
   ]
  },
  {
   "cell_type": "markdown",
   "metadata": {},
   "source": [
    "Условия:\n",
    "- Для обучения модели подходит только линейная регрессия (остальные — недостаточно предсказуемые).\n",
    "- При разведке региона проводится исследование 500 точек.\n",
    "- Бюджет на разработку месторождений — 10 млрд рублей, стоимость бурения одной скважины — 50 млн рублей.\n",
    "- Один баррель сырья приносит 4500 рублей прибыли.\n",
    "- Не рассматривать регионы, в которых риск убытков выше 2.5%. Из оставшихся выбирается регион с наибольшей средней прибылью."
   ]
  },
  {
   "cell_type": "markdown",
   "metadata": {},
   "source": [
    "# 1. Загрузка и подготовка данных"
   ]
  },
  {
   "cell_type": "markdown",
   "metadata": {},
   "source": [
    "Краткий план:\n",
    "- Смотрим распределение продуктов по каждому региону\n",
    "- Готовим выборку для обучения\n",
    "- Обучаем модель\n",
    "- Считаем средние количество запасов. Смотрим среднеквадратическую ошибку и абсолютную среднюю ошибку. Вывод\n",
    "- Подготавливаем функцию для расчета прибыли и рисков убытков\n",
    "- Bootstrap-ом 1000 раз выдергиваем по 500 элементов случайным образом с возвращением из выборок предсказаний и целевой для каждого региона\n",
    "- Смотрим среднее значение прибыли и рисков по каждому региону\n",
    "- Сводная таблица"
   ]
  },
  {
   "cell_type": "code",
   "execution_count": 2,
   "metadata": {},
   "outputs": [],
   "source": [
    "import pandas as pd\n",
    "import matplotlib as plt\n",
    "import numpy as np\n",
    "import seaborn as sns\n",
    "from sklearn.model_selection import train_test_split\n",
    "from sklearn.linear_model import LinearRegression\n",
    "from sklearn.metrics import mean_squared_error\n",
    "from sklearn.metrics import mean_absolute_error\n",
    "from numpy.random import RandomState\n",
    "from scipy import stats as st\n"
   ]
  },
  {
   "cell_type": "code",
   "execution_count": 3,
   "metadata": {},
   "outputs": [],
   "source": [
    "geo_data_0=pd.read_csv('/datasets/geo_data_0.csv')\n",
    "geo_data_1=pd.read_csv('/datasets/geo_data_1.csv')\n",
    "geo_data_2=pd.read_csv('/datasets/geo_data_2.csv')\n"
   ]
  },
  {
   "cell_type": "code",
   "execution_count": 284,
   "metadata": {},
   "outputs": [
    {
     "data": {
      "text/html": [
       "<div>\n",
       "<style scoped>\n",
       "    .dataframe tbody tr th:only-of-type {\n",
       "        vertical-align: middle;\n",
       "    }\n",
       "\n",
       "    .dataframe tbody tr th {\n",
       "        vertical-align: top;\n",
       "    }\n",
       "\n",
       "    .dataframe thead th {\n",
       "        text-align: right;\n",
       "    }\n",
       "</style>\n",
       "<table border=\"1\" class=\"dataframe\">\n",
       "  <thead>\n",
       "    <tr style=\"text-align: right;\">\n",
       "      <th></th>\n",
       "      <th>id</th>\n",
       "      <th>f0</th>\n",
       "      <th>f1</th>\n",
       "      <th>f2</th>\n",
       "      <th>product</th>\n",
       "    </tr>\n",
       "  </thead>\n",
       "  <tbody>\n",
       "    <tr>\n",
       "      <td>0</td>\n",
       "      <td>txEyH</td>\n",
       "      <td>0.705745</td>\n",
       "      <td>-0.497823</td>\n",
       "      <td>1.221170</td>\n",
       "      <td>105.280062</td>\n",
       "    </tr>\n",
       "    <tr>\n",
       "      <td>1</td>\n",
       "      <td>2acmU</td>\n",
       "      <td>1.334711</td>\n",
       "      <td>-0.340164</td>\n",
       "      <td>4.365080</td>\n",
       "      <td>73.037750</td>\n",
       "    </tr>\n",
       "    <tr>\n",
       "      <td>2</td>\n",
       "      <td>409Wp</td>\n",
       "      <td>1.022732</td>\n",
       "      <td>0.151990</td>\n",
       "      <td>1.419926</td>\n",
       "      <td>85.265647</td>\n",
       "    </tr>\n",
       "    <tr>\n",
       "      <td>3</td>\n",
       "      <td>iJLyR</td>\n",
       "      <td>-0.032172</td>\n",
       "      <td>0.139033</td>\n",
       "      <td>2.978566</td>\n",
       "      <td>168.620776</td>\n",
       "    </tr>\n",
       "    <tr>\n",
       "      <td>4</td>\n",
       "      <td>Xdl7t</td>\n",
       "      <td>1.988431</td>\n",
       "      <td>0.155413</td>\n",
       "      <td>4.751769</td>\n",
       "      <td>154.036647</td>\n",
       "    </tr>\n",
       "  </tbody>\n",
       "</table>\n",
       "</div>"
      ],
      "text/plain": [
       "      id        f0        f1        f2     product\n",
       "0  txEyH  0.705745 -0.497823  1.221170  105.280062\n",
       "1  2acmU  1.334711 -0.340164  4.365080   73.037750\n",
       "2  409Wp  1.022732  0.151990  1.419926   85.265647\n",
       "3  iJLyR -0.032172  0.139033  2.978566  168.620776\n",
       "4  Xdl7t  1.988431  0.155413  4.751769  154.036647"
      ]
     },
     "execution_count": 284,
     "metadata": {},
     "output_type": "execute_result"
    }
   ],
   "source": [
    "geo_data_0.head()"
   ]
  },
  {
   "cell_type": "code",
   "execution_count": 285,
   "metadata": {},
   "outputs": [
    {
     "name": "stdout",
     "output_type": "stream",
     "text": [
      "<class 'pandas.core.frame.DataFrame'>\n",
      "RangeIndex: 100000 entries, 0 to 99999\n",
      "Data columns (total 5 columns):\n",
      "id         100000 non-null object\n",
      "f0         100000 non-null float64\n",
      "f1         100000 non-null float64\n",
      "f2         100000 non-null float64\n",
      "product    100000 non-null float64\n",
      "dtypes: float64(4), object(1)\n",
      "memory usage: 3.8+ MB\n"
     ]
    }
   ],
   "source": [
    "geo_data_0.info()"
   ]
  },
  {
   "cell_type": "code",
   "execution_count": 286,
   "metadata": {},
   "outputs": [
    {
     "name": "stdout",
     "output_type": "stream",
     "text": [
      "<class 'pandas.core.frame.DataFrame'>\n",
      "RangeIndex: 100000 entries, 0 to 99999\n",
      "Data columns (total 5 columns):\n",
      "id         100000 non-null object\n",
      "f0         100000 non-null float64\n",
      "f1         100000 non-null float64\n",
      "f2         100000 non-null float64\n",
      "product    100000 non-null float64\n",
      "dtypes: float64(4), object(1)\n",
      "memory usage: 3.8+ MB\n"
     ]
    }
   ],
   "source": [
    "geo_data_1.info()"
   ]
  },
  {
   "cell_type": "code",
   "execution_count": 287,
   "metadata": {},
   "outputs": [
    {
     "name": "stdout",
     "output_type": "stream",
     "text": [
      "<class 'pandas.core.frame.DataFrame'>\n",
      "RangeIndex: 100000 entries, 0 to 99999\n",
      "Data columns (total 5 columns):\n",
      "id         100000 non-null object\n",
      "f0         100000 non-null float64\n",
      "f1         100000 non-null float64\n",
      "f2         100000 non-null float64\n",
      "product    100000 non-null float64\n",
      "dtypes: float64(4), object(1)\n",
      "memory usage: 3.8+ MB\n"
     ]
    }
   ],
   "source": [
    "geo_data_2.info()"
   ]
  },
  {
   "cell_type": "markdown",
   "metadata": {},
   "source": [
    "Все данные в порядке. Пропусков нет! Типы данных тоже в порядке!"
   ]
  },
  {
   "cell_type": "code",
   "execution_count": 288,
   "metadata": {},
   "outputs": [
    {
     "data": {
      "text/plain": [
       "<matplotlib.axes._subplots.AxesSubplot at 0x7f632a16b5d0>"
      ]
     },
     "execution_count": 288,
     "metadata": {},
     "output_type": "execute_result"
    },
    {
     "data": {
      "image/png": "[encoded data removed]",
      "text/plain": [
       "<Figure size 432x288 with 1 Axes>"
      ]
     },
     "metadata": {
      "needs_background": "light"
     },
     "output_type": "display_data"
    }
   ],
   "source": [
    "#geo_data_0['product'].hist(bins=30,figsize=(10,6),title='')\n",
    "\n",
    "sns.distplot(geo_data_0['product'],  color= \"b\") "
   ]
  },
  {
   "cell_type": "markdown",
   "metadata": {},
   "source": [
    "Распределение сырья в месторождении geo_data_0"
   ]
  },
  {
   "cell_type": "code",
   "execution_count": 289,
   "metadata": {},
   "outputs": [
    {
     "data": {
      "text/plain": [
       "<matplotlib.axes._subplots.AxesSubplot at 0x7f632b7f2110>"
      ]
     },
     "execution_count": 289,
     "metadata": {},
     "output_type": "execute_result"
    },
    {
     "data": {
      "image/png": "[encoded data removed]",
      "text/plain": [
       "<Figure size 432x288 with 1 Axes>"
      ]
     },
     "metadata": {
      "needs_background": "light"
     },
     "output_type": "display_data"
    }
   ],
   "source": [
    "sns.distplot(geo_data_1['product'],  color= \"y\") "
   ]
  },
  {
   "cell_type": "markdown",
   "metadata": {},
   "source": [
    "Распределение сырья в месторождении geo_data_1"
   ]
  },
  {
   "cell_type": "code",
   "execution_count": 290,
   "metadata": {},
   "outputs": [
    {
     "data": {
      "text/plain": [
       "<matplotlib.axes._subplots.AxesSubplot at 0x7f632b7450d0>"
      ]
     },
     "execution_count": 290,
     "metadata": {},
     "output_type": "execute_result"
    },
    {
     "data": {
      "image/png": "[encoded data removed]",
      "text/plain": [
       "<Figure size 432x288 with 1 Axes>"
      ]
     },
     "metadata": {
      "needs_background": "light"
     },
     "output_type": "display_data"
    }
   ],
   "source": [
    "sns.distplot(geo_data_2['product'],  color= \"m\") "
   ]
  },
  {
   "cell_type": "markdown",
   "metadata": {},
   "source": [
    "Распределение сырья в месторождении geo_data_2"
   ]
  },
  {
   "cell_type": "markdown",
   "metadata": {},
   "source": [
    "По распределению сырья видно, что распределение не нормальное. Bootstrap потом сделаем его нормальным "
   ]
  },
  {
   "cell_type": "code",
   "execution_count": 291,
   "metadata": {},
   "outputs": [],
   "source": [
    "# готовим выборки для обучения. Разбиваем на целевой признак и признаки\n",
    "features_1=geo_data_0.drop(['product','id'],axis=1)\n",
    "target_1=geo_data_0['product']\n",
    "\n",
    "features_2=geo_data_1.drop(['product','id'],axis=1)\n",
    "target_2=geo_data_1['product']\n",
    "\n",
    "features_3=geo_data_2.drop(['product','id'],axis=1)\n",
    "target_3=geo_data_2['product']"
   ]
  },
  {
   "cell_type": "code",
   "execution_count": 292,
   "metadata": {},
   "outputs": [],
   "source": [
    "# готовим обучающую, валидную и тестовую выборку\n",
    "train_features_1,valid_features_1,train_target_1,valid_target_1=train_test_split(features_1,target_1,test_size=.25,random_state=1234)\n",
    "train_features_2,valid_faetures_2,train_target_2,valid_target_2=train_test_split(features_2,target_2,test_size=.25,random_state=1234)\n",
    "train_features_3,valid_features_3,train_target_3,valid_target_3=train_test_split(features_3,target_3,test_size=.25,random_state=1234)"
   ]
  },
  {
   "cell_type": "markdown",
   "metadata": {},
   "source": [
    "# 2. Обучение и проверка модели"
   ]
  },
  {
   "cell_type": "code",
   "execution_count": 293,
   "metadata": {},
   "outputs": [],
   "source": [
    "# Обучаем моделью линейной регрессии\n",
    "model_reg_1=LinearRegression().fit(train_features_1,train_target_1)"
   ]
  },
  {
   "cell_type": "code",
   "execution_count": 294,
   "metadata": {},
   "outputs": [],
   "source": [
    "#Предсказания модели\n",
    "prediction_1=model_reg_1.predict(valid_features_1)"
   ]
  },
  {
   "cell_type": "code",
   "execution_count": 295,
   "metadata": {},
   "outputs": [
    {
     "name": "stdout",
     "output_type": "stream",
     "text": [
      "Средний запас сырья: 92.43045952558441 RMSE: 37.56239418363779 MAE: 30.938765880476645\n"
     ]
    }
   ],
   "source": [
    "print('Средний запас сырья:',prediction_1.mean(),'RMSE:',np.sqrt(mean_squared_error(prediction_1,valid_target_1)),'MAE:',mean_absolute_error(prediction_1,valid_target_1))"
   ]
  },
  {
   "cell_type": "code",
   "execution_count": 296,
   "metadata": {},
   "outputs": [],
   "source": [
    "model_reg_2=LinearRegression().fit(train_features_2,train_target_2)"
   ]
  },
  {
   "cell_type": "code",
   "execution_count": 297,
   "metadata": {},
   "outputs": [],
   "source": [
    "prediction_2=model_reg_2.predict(valid_faetures_2)"
   ]
  },
  {
   "cell_type": "code",
   "execution_count": 298,
   "metadata": {},
   "outputs": [
    {
     "name": "stdout",
     "output_type": "stream",
     "text": [
      "Средний запас сырья: 68.80248249798366 RMSE: 0.8939344738117693 MAE: 0.7208749581371279\n"
     ]
    }
   ],
   "source": [
    "print('Средний запас сырья:',prediction_2.mean(),'RMSE:',np.sqrt(mean_squared_error(prediction_2,valid_target_2)),'MAE:',mean_absolute_error(prediction_2,valid_target_2))"
   ]
  },
  {
   "cell_type": "code",
   "execution_count": 299,
   "metadata": {},
   "outputs": [],
   "source": [
    "model_reg_3=LinearRegression().fit(train_features_3,train_target_3)"
   ]
  },
  {
   "cell_type": "code",
   "execution_count": 300,
   "metadata": {},
   "outputs": [],
   "source": [
    "prediction_3=model_reg_3.predict(valid_features_3)"
   ]
  },
  {
   "cell_type": "code",
   "execution_count": 301,
   "metadata": {},
   "outputs": [
    {
     "name": "stdout",
     "output_type": "stream",
     "text": [
      "Средний запас сырья: 94.91573817913459 RMSE: 40.10318099258418 MAE: 32.86813268581066\n"
     ]
    }
   ],
   "source": [
    "print('Средний запас сырья:',prediction_3.mean(),'RMSE:',np.sqrt(mean_squared_error(prediction_3,valid_target_3)),'MAE:',mean_absolute_error(prediction_3,valid_target_3))"
   ]
  },
  {
   "cell_type": "code",
   "execution_count": 302,
   "metadata": {},
   "outputs": [],
   "source": [
    "mse_data={'geo_data_0':np.array([92.43,37.562,30.93]),'geo_data_1':np.array([68.80,0.893,0.72]),'geo_data_2':np.array([94.92,40.10,32.868])}\n",
    "data=pd.DataFrame(mse_data,index=['Средний запас сырья, тыс.бареллей','RMSE','MAE'])"
   ]
  },
  {
   "cell_type": "code",
   "execution_count": 303,
   "metadata": {},
   "outputs": [
    {
     "data": {
      "text/html": [
       "<div>\n",
       "<style scoped>\n",
       "    .dataframe tbody tr th:only-of-type {\n",
       "        vertical-align: middle;\n",
       "    }\n",
       "\n",
       "    .dataframe tbody tr th {\n",
       "        vertical-align: top;\n",
       "    }\n",
       "\n",
       "    .dataframe thead th {\n",
       "        text-align: right;\n",
       "    }\n",
       "</style>\n",
       "<table border=\"1\" class=\"dataframe\">\n",
       "  <thead>\n",
       "    <tr style=\"text-align: right;\">\n",
       "      <th></th>\n",
       "      <th>geo_data_0</th>\n",
       "      <th>geo_data_1</th>\n",
       "      <th>geo_data_2</th>\n",
       "    </tr>\n",
       "  </thead>\n",
       "  <tbody>\n",
       "    <tr>\n",
       "      <td>Средний запас сырья, тыс.бареллей</td>\n",
       "      <td>92.430</td>\n",
       "      <td>68.800</td>\n",
       "      <td>94.920</td>\n",
       "    </tr>\n",
       "    <tr>\n",
       "      <td>RMSE</td>\n",
       "      <td>37.562</td>\n",
       "      <td>0.893</td>\n",
       "      <td>40.100</td>\n",
       "    </tr>\n",
       "    <tr>\n",
       "      <td>MAE</td>\n",
       "      <td>30.930</td>\n",
       "      <td>0.720</td>\n",
       "      <td>32.868</td>\n",
       "    </tr>\n",
       "  </tbody>\n",
       "</table>\n",
       "</div>"
      ],
      "text/plain": [
       "                                   geo_data_0  geo_data_1  geo_data_2\n",
       "Средний запас сырья, тыс.бареллей      92.430      68.800      94.920\n",
       "RMSE                                   37.562       0.893      40.100\n",
       "MAE                                    30.930       0.720      32.868"
      ]
     },
     "execution_count": 303,
     "metadata": {},
     "output_type": "execute_result"
    }
   ],
   "source": [
    "data"
   ]
  },
  {
   "cell_type": "markdown",
   "metadata": {},
   "source": [
    "# 3. Подготовка к расчёту прибыли"
   ]
  },
  {
   "cell_type": "code",
   "execution_count": 304,
   "metadata": {},
   "outputs": [],
   "source": [
    "N=500 # При разведке региона проводится исследование 500 точек.\n",
    "BUDGET_FOR_1=10**9 # Бюджет на разработку месторождений — 10 млрд рублей\n",
    "COAST_ONE_WELL=50*10**6 # стоимость бурения одной скважины — 50 млн рублей.\n",
    "BURREL=4500 # Один баррель сырья приносит 4500 рублей прибыли."
   ]
  },
  {
   "cell_type": "markdown",
   "metadata": {},
   "source": [
    "### Минимальный объем сырья"
   ]
  },
  {
   "cell_type": "code",
   "execution_count": 305,
   "metadata": {},
   "outputs": [
    {
     "name": "stdout",
     "output_type": "stream",
     "text": [
      "Минимальный объём сырья в месторождениях региона, достаточный для его разработки 11.11111111111111 тыс.бареллей\n"
     ]
    }
   ],
   "source": [
    "min_product=COAST_ONE_WELL/BURREL\n",
    "print('Минимальный объём сырья в месторождениях региона, достаточный для его разработки',min_product/1000,'тыс.бареллей')"
   ]
  },
  {
   "cell_type": "code",
   "execution_count": 306,
   "metadata": {},
   "outputs": [
    {
     "data": {
      "text/html": [
       "<div>\n",
       "<style scoped>\n",
       "    .dataframe tbody tr th:only-of-type {\n",
       "        vertical-align: middle;\n",
       "    }\n",
       "\n",
       "    .dataframe tbody tr th {\n",
       "        vertical-align: top;\n",
       "    }\n",
       "\n",
       "    .dataframe thead th {\n",
       "        text-align: right;\n",
       "    }\n",
       "</style>\n",
       "<table border=\"1\" class=\"dataframe\">\n",
       "  <thead>\n",
       "    <tr style=\"text-align: right;\">\n",
       "      <th></th>\n",
       "      <th>geo_data_0</th>\n",
       "      <th>geo_data_1</th>\n",
       "      <th>geo_data_2</th>\n",
       "    </tr>\n",
       "  </thead>\n",
       "  <tbody>\n",
       "    <tr>\n",
       "      <td>Средний запас сырья, тыс.бареллей</td>\n",
       "      <td>92.430</td>\n",
       "      <td>68.800</td>\n",
       "      <td>94.920</td>\n",
       "    </tr>\n",
       "    <tr>\n",
       "      <td>RMSE</td>\n",
       "      <td>37.562</td>\n",
       "      <td>0.893</td>\n",
       "      <td>40.100</td>\n",
       "    </tr>\n",
       "    <tr>\n",
       "      <td>MAE</td>\n",
       "      <td>30.930</td>\n",
       "      <td>0.720</td>\n",
       "      <td>32.868</td>\n",
       "    </tr>\n",
       "  </tbody>\n",
       "</table>\n",
       "</div>"
      ],
      "text/plain": [
       "                                   geo_data_0  geo_data_1  geo_data_2\n",
       "Средний запас сырья, тыс.бареллей      92.430      68.800      94.920\n",
       "RMSE                                   37.562       0.893      40.100\n",
       "MAE                                    30.930       0.720      32.868"
      ]
     },
     "execution_count": 306,
     "metadata": {},
     "output_type": "execute_result"
    }
   ],
   "source": [
    "data"
   ]
  },
  {
   "cell_type": "markdown",
   "metadata": {},
   "source": [
    "#### Вывод:\n",
    "Сравнивая значения среднего запаса сырья в трех месторождениях и минимального объема запасов достаточного для его разработки, можно сделать вывод для каждого месторождения среднего объема сырья достаточно для разработки.\n",
    "Оценивая среднеквадратичную ошибку предсказания и целевого признака  можно сделать, лучше всего предсказано месторождение geo_data_1. Остальные месторождения предсказаны с большой ошибкой.\n",
    "Также можно заметить, что у месторождения (geo_data_1), которое предсказано лучше всех, меньше всего среднего запаса сырья, чем у остальных. Можно сделать вывод, что из-за большой ошибки значения среднего запаса могут быть другими.\n",
    "Попробуем применить технологию Bootstrap, чтобы получить нормальное распределение данных и использовать статистический функционал."
   ]
  },
  {
   "cell_type": "markdown",
   "metadata": {},
   "source": [
    "### Расчёта прибыли по набору отобранных месторождений и предсказаний модели."
   ]
  },
  {
   "cell_type": "code",
   "execution_count": 307,
   "metadata": {},
   "outputs": [],
   "source": [
    "# Функция расчета прибыли\n",
    "def pribil(data):\n",
    "    pribil=[]\n",
    "    pribil.append((data*1000*BURREL)/1000000) # умножаем запас сырья на цена за барелль \n",
    "    return np.mean(pribil)  # возвращаем сумму прибыли"
   ]
  },
  {
   "cell_type": "markdown",
   "metadata": {},
   "source": [
    "# 4. Расчёт прибыли и рисков "
   ]
  },
  {
   "cell_type": "code",
   "execution_count": 308,
   "metadata": {},
   "outputs": [],
   "source": [
    "# Функция расчета рисков\n",
    "def demage(data):\n",
    "    demage_data=[]\n",
    "    demage_data.append((data[data<0]*1000*BURREL)/1000000)\n",
    "   \n",
    "    return np.sum(demage_data)"
   ]
  },
  {
   "cell_type": "code",
   "execution_count": 309,
   "metadata": {},
   "outputs": [],
   "source": [
    "prediction_1=pd.Series(prediction_1)\n",
    "valid_target_1=pd.Series(valid_target_1)\n",
    "\n",
    "prediction_2=pd.Series(prediction_2)\n",
    "valid_target_2=pd.Series(valid_target_2)\n",
    "\n",
    "prediction_3=pd.Series(prediction_3)\n",
    "valid_target_3=pd.Series(valid_target_3)"
   ]
  },
  {
   "cell_type": "code",
   "execution_count": 310,
   "metadata": {},
   "outputs": [],
   "source": [
    "state = np.random.RandomState(12345)"
   ]
  },
  {
   "cell_type": "code",
   "execution_count": 311,
   "metadata": {
    "scrolled": true
   },
   "outputs": [],
   "source": [
    "#Bootstrap\n",
    "values_1=[]\n",
    "values_2=[]\n",
    "values_3=[]\n",
    "dem_1=[]\n",
    "dem_2=[]\n",
    "dem_3=[]\n",
    "\n",
    "for i in range(1000):\n",
    "    \n",
    "    # Делаю выборку по 500 точек 1-ого региона\n",
    "    target_subsample_1=valid_target_1.sample(n=N,random_state=state,replace=True)\n",
    "    predict_subsample_1=prediction_1.sample(n=N,random_state=state,replace=True)\n",
    "    sum_target_predict_1=pd.concat([target_subsample_1,predict_subsample_1])\n",
    "    \n",
    "    # Делаю выборку по 500 точек 2-ого региона\n",
    "    target_subsample_2=valid_target_2.sample(n=N,random_state=state,replace=True)\n",
    "    predict_subsample_2=prediction_2.sample(n=N,random_state=state,replace=True)\n",
    "    sum_target_predict_2=pd.concat([target_subsample_2,predict_subsample_2])\n",
    "    \n",
    "    \n",
    "    # Делаю выборку по 500 точек 3-ого региона\n",
    "    target_subsample_3=valid_target_3.sample(n=N,random_state=state,replace=True)\n",
    "    predict_subsample_3=prediction_3.sample(n=N,random_state=state,replace=True)\n",
    "    sum_target_predict_3=pd.concat([target_subsample_3,predict_subsample_3])\n",
    "   \n",
    "    # подсчет прибыли и рисков вызовом функций\n",
    "    values_1.append(np.mean(pribil(sum_target_predict_1)))\n",
    "    dem_1.append(np.mean(demage(sum_target_predict_1)))\n",
    "    \n",
    "    values_2.append(np.mean(pribil(sum_target_predict_2))) \n",
    "    dem_2.append(np.mean(demage(sum_target_predict_2)))\n",
    "    \n",
    "    values_3.append(np.mean(pribil(sum_target_predict_3))) \n",
    "    dem_3.append(np.mean(demage(sum_target_predict_3)))\n",
    "    "
   ]
  },
  {
   "cell_type": "code",
   "execution_count": 312,
   "metadata": {},
   "outputs": [],
   "source": [
    "# Перевожу в Series\n",
    "values_1=pd.Series(values_1)\n",
    "values_2=pd.Series(values_2)\n",
    "values_3=pd.Series(values_3)\n",
    "\n",
    "dem_1=pd.Series(dem_1)\n",
    "dem_2=pd.Series(dem_2)\n",
    "dem_3=pd.Series(dem_3)"
   ]
  },
  {
   "cell_type": "markdown",
   "metadata": {},
   "source": [
    "### Регион 1"
   ]
  },
  {
   "cell_type": "code",
   "execution_count": 313,
   "metadata": {},
   "outputs": [
    {
     "name": "stdout",
     "output_type": "stream",
     "text": [
      "средняя прибыль месторождения 1: 416.20273637249375 млн. рублей\n"
     ]
    }
   ],
   "source": [
    "print('средняя прибыль месторождения 1:',values_1.mean(),'млн. рублей')"
   ]
  },
  {
   "cell_type": "code",
   "execution_count": 256,
   "metadata": {},
   "outputs": [
    {
     "name": "stdout",
     "output_type": "stream",
     "text": [
      "95%-ый доверительный интервал: (415.6521834624191, 416.3040449727737)\n"
     ]
    }
   ],
   "source": [
    "confidence_interval_1 =st.t.interval(0.95,df=len(values_1)-1,loc=values_1.mean(),scale =values_1.sem()) \n",
    "\n",
    "print(\"95%-ый доверительный интервал:\", confidence_interval_1)"
   ]
  },
  {
   "cell_type": "code",
   "execution_count": 237,
   "metadata": {},
   "outputs": [],
   "source": [
    "lower =values_1.quantile(0.025)\n",
    "upper = values_1.quantile(0.975)"
   ]
  },
  {
   "cell_type": "code",
   "execution_count": 238,
   "metadata": {},
   "outputs": [
    {
     "data": {
      "text/plain": [
       "405.67945529137484"
      ]
     },
     "execution_count": 238,
     "metadata": {},
     "output_type": "execute_result"
    }
   ],
   "source": [
    "lower # 2.5% квантиль"
   ]
  },
  {
   "cell_type": "code",
   "execution_count": 239,
   "metadata": {},
   "outputs": [
    {
     "data": {
      "text/plain": [
       "425.46835084993813"
      ]
     },
     "execution_count": 239,
     "metadata": {},
     "output_type": "execute_result"
    }
   ],
   "source": [
    "upper # 97.5 квантиль"
   ]
  },
  {
   "cell_type": "markdown",
   "metadata": {},
   "source": [
    "Риск убытков: "
   ]
  },
  {
   "cell_type": "code",
   "execution_count": 262,
   "metadata": {},
   "outputs": [
    {
     "name": "stdout",
     "output_type": "stream",
     "text": [
      "Риск убытков: 0.0 %\n"
     ]
    }
   ],
   "source": [
    "demage_1=np.abs(dem_1.mean()/N)*100\n",
    "print('Риск убытков:',demage_1,'%')"
   ]
  },
  {
   "cell_type": "markdown",
   "metadata": {},
   "source": [
    "### Регион 2"
   ]
  },
  {
   "cell_type": "code",
   "execution_count": 263,
   "metadata": {},
   "outputs": [
    {
     "name": "stdout",
     "output_type": "stream",
     "text": [
      "средняя прибыль месторождения 2: 309.6016231545892 млн. рублей\n"
     ]
    }
   ],
   "source": [
    "print('средняя прибыль месторождения 2:',values_2.mean(),'млн. рублей')"
   ]
  },
  {
   "cell_type": "code",
   "execution_count": 276,
   "metadata": {},
   "outputs": [
    {
     "name": "stdout",
     "output_type": "stream",
     "text": [
      "95%-ый доверительный интервал: (427.1641895778832, 427.7569187932905)\n"
     ]
    }
   ],
   "source": [
    "confidence_interval_2 =st.t.interval(0.95,df=len(values_2)-1,loc=values_2.mean(),scale =values_2.sem()) \n",
    "\n",
    "print(\"95%-ый доверительный интервал:\", confidence_interval)"
   ]
  },
  {
   "cell_type": "code",
   "execution_count": 265,
   "metadata": {},
   "outputs": [],
   "source": [
    "lower =values_2.quantile(0.025)\n",
    "upper = values_2.quantile(0.975)"
   ]
  },
  {
   "cell_type": "code",
   "execution_count": 266,
   "metadata": {},
   "outputs": [
    {
     "data": {
      "text/plain": [
       "296.5659394211574"
      ]
     },
     "execution_count": 266,
     "metadata": {},
     "output_type": "execute_result"
    }
   ],
   "source": [
    "lower # 2.5% квантиль"
   ]
  },
  {
   "cell_type": "code",
   "execution_count": 267,
   "metadata": {},
   "outputs": [
    {
     "data": {
      "text/plain": [
       "322.08677651662686"
      ]
     },
     "execution_count": 267,
     "metadata": {},
     "output_type": "execute_result"
    }
   ],
   "source": [
    "upper # 97.5 квантиль"
   ]
  },
  {
   "cell_type": "markdown",
   "metadata": {},
   "source": [
    "Риск убытков: "
   ]
  },
  {
   "cell_type": "code",
   "execution_count": 268,
   "metadata": {},
   "outputs": [
    {
     "name": "stdout",
     "output_type": "stream",
     "text": [
      "Риск убытков: 4.4083259625753985 %\n"
     ]
    }
   ],
   "source": [
    "demage_2=np.abs(dem_2.mean()/N)*100\n",
    "print('Риск убытков:',demage_2,'%')"
   ]
  },
  {
   "cell_type": "markdown",
   "metadata": {},
   "source": [
    "### Регион 3"
   ]
  },
  {
   "cell_type": "code",
   "execution_count": 269,
   "metadata": {},
   "outputs": [
    {
     "name": "stdout",
     "output_type": "stream",
     "text": [
      "средняя прибыль месторождения 2: 427.46055418558683 млн. рублей\n"
     ]
    }
   ],
   "source": [
    "print('средняя прибыль месторождения 2:',values_3.mean(),'млн. рублей')"
   ]
  },
  {
   "cell_type": "code",
   "execution_count": 277,
   "metadata": {},
   "outputs": [
    {
     "name": "stdout",
     "output_type": "stream",
     "text": [
      "95%-ый доверительный интервал: (427.1641895778832, 427.7569187932905)\n"
     ]
    }
   ],
   "source": [
    "confidence_interval_3 =st.t.interval(0.95,df=len(values_3)-1,loc=values_3.mean(),scale =values_3.sem()) \n",
    "\n",
    "print(\"95%-ый доверительный интервал:\", confidence_interval)"
   ]
  },
  {
   "cell_type": "code",
   "execution_count": 271,
   "metadata": {},
   "outputs": [],
   "source": [
    "lower =values_3.quantile(0.025)\n",
    "upper = values_3.quantile(0.975)"
   ]
  },
  {
   "cell_type": "code",
   "execution_count": 272,
   "metadata": {},
   "outputs": [
    {
     "data": {
      "text/plain": [
       "417.6574804905129"
      ]
     },
     "execution_count": 272,
     "metadata": {},
     "output_type": "execute_result"
    }
   ],
   "source": [
    "lower # 2.5% квантиль"
   ]
  },
  {
   "cell_type": "code",
   "execution_count": 273,
   "metadata": {},
   "outputs": [
    {
     "data": {
      "text/plain": [
       "436.6604528585062"
      ]
     },
     "execution_count": 273,
     "metadata": {},
     "output_type": "execute_result"
    }
   ],
   "source": [
    "upper # 97.5 квантиль"
   ]
  },
  {
   "cell_type": "markdown",
   "metadata": {},
   "source": [
    "Риск убытков: "
   ]
  },
  {
   "cell_type": "code",
   "execution_count": 258,
   "metadata": {},
   "outputs": [
    {
     "name": "stdout",
     "output_type": "stream",
     "text": [
      "Риск убытков: 0.0 %\n"
     ]
    }
   ],
   "source": [
    "demage_3=np.abs(dem_3.mean()/N)*100\n",
    "print('Риск убытков:',demage_3,'%')"
   ]
  },
  {
   "cell_type": "markdown",
   "metadata": {},
   "source": [
    "## Вывод:"
   ]
  },
  {
   "cell_type": "markdown",
   "metadata": {},
   "source": [
    "Сводная таблица"
   ]
  },
  {
   "cell_type": "code",
   "execution_count": 316,
   "metadata": {},
   "outputs": [],
   "source": [
    "geo={'geo_data_0':np.array([values_1.mean(),confidence_interval_1,demage_1,]),'geo_data_1':np.array([values_2.mean(),confidence_interval_2,demage_2]),'geo_data_2':np.array([values_3.mean(),confidence_interval_3,demage_3])}\n",
    "new_data=pd.DataFrame(geo,index=['Средняя прибыль, млн.руб','Доверительный интервал 95%','Риск убытков, %'])"
   ]
  },
  {
   "cell_type": "code",
   "execution_count": 317,
   "metadata": {},
   "outputs": [
    {
     "data": {
      "text/html": [
       "<div>\n",
       "<style scoped>\n",
       "    .dataframe tbody tr th:only-of-type {\n",
       "        vertical-align: middle;\n",
       "    }\n",
       "\n",
       "    .dataframe tbody tr th {\n",
       "        vertical-align: top;\n",
       "    }\n",
       "\n",
       "    .dataframe thead th {\n",
       "        text-align: right;\n",
       "    }\n",
       "</style>\n",
       "<table border=\"1\" class=\"dataframe\">\n",
       "  <thead>\n",
       "    <tr style=\"text-align: right;\">\n",
       "      <th></th>\n",
       "      <th>geo_data_0</th>\n",
       "      <th>geo_data_1</th>\n",
       "      <th>geo_data_2</th>\n",
       "    </tr>\n",
       "  </thead>\n",
       "  <tbody>\n",
       "    <tr>\n",
       "      <td>Средняя прибыль, млн.руб</td>\n",
       "      <td>416.203</td>\n",
       "      <td>309.709</td>\n",
       "      <td>426.955</td>\n",
       "    </tr>\n",
       "    <tr>\n",
       "      <td>Доверительный интервал 95%</td>\n",
       "      <td>(415.6521834624191, 416.3040449727737)</td>\n",
       "      <td>(309.1945288018896, 310.00871750728885)</td>\n",
       "      <td>(427.1641895778832, 427.7569187932905)</td>\n",
       "    </tr>\n",
       "    <tr>\n",
       "      <td>Риск убытков, %</td>\n",
       "      <td>0</td>\n",
       "      <td>4.40833</td>\n",
       "      <td>0</td>\n",
       "    </tr>\n",
       "  </tbody>\n",
       "</table>\n",
       "</div>"
      ],
      "text/plain": [
       "                                                        geo_data_0  \\\n",
       "Средняя прибыль, млн.руб                                   416.203   \n",
       "Доверительный интервал 95%  (415.6521834624191, 416.3040449727737)   \n",
       "Риск убытков, %                                                  0   \n",
       "\n",
       "                                                         geo_data_1  \\\n",
       "Средняя прибыль, млн.руб                                    309.709   \n",
       "Доверительный интервал 95%  (309.1945288018896, 310.00871750728885)   \n",
       "Риск убытков, %                                             4.40833   \n",
       "\n",
       "                                                        geo_data_2  \n",
       "Средняя прибыль, млн.руб                                   426.955  \n",
       "Доверительный интервал 95%  (427.1641895778832, 427.7569187932905)  \n",
       "Риск убытков, %                                                  0  "
      ]
     },
     "execution_count": 317,
     "metadata": {},
     "output_type": "execute_result"
    }
   ],
   "source": [
    "new_data"
   ]
  },
  {
   "cell_type": "markdown",
   "metadata": {},
   "source": [
    "Оценивая средние значения прибыли после Bootstrap можно сделать выводы, что самым прибыльным районом оказался geo_data_2. Средняя прибыль по нему составляет 426.955 млн. рублей. На втором месте регион geo_data_0 со средней прибылью 416.203 млн. руб. Самым неблагоприятным районом для осваивания является  geo_data_1. Средняя прибыл по нему 309.709 млн. руб. И по нему риски убытка 4,4% (не рассматриваем по условию). У Всех остальных рисков убытка нет!"
   ]
  }
 ],
 "metadata": {
  "kernelspec": {
   "display_name": "Python 3",
   "language": "python",
   "name": "python3"
  },
  "language_info": {
   "codemirror_mode": {
    "name": "ipython",
    "version": 3
   },
   "file_extension": ".py",
   "mimetype": "text/x-python",
   "name": "python",
   "nbconvert_exporter": "python",
   "pygments_lexer": "ipython3",
   "version": "3.7.6"
  }
 },
 "nbformat": 4,
 "nbformat_minor": 2
}
